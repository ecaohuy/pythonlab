{
 "cells": [
  {
   "cell_type": "code",
   "execution_count": 3,
   "metadata": {},
   "outputs": [
    {
     "name": "stderr",
     "output_type": "stream",
     "text": [
      "/mnt/c/cygwin/home/ephucle/tool_script/python/pythonlab/gui_tk.py:31: DeprecationWarning: `IPython.lib.inputhook` is deprecated since IPython 5.0 and will be removed in future versions.\n",
      "  from IPython.lib.inputhook import enable_gui\n",
      "/mnt/c/cygwin/home/ephucle/tool_script/python/pythonlab/gui_tk.py:32: DeprecationWarning: `enable_gui` is deprecated since IPython 5.0 and will be removed in future versions.\n",
      "  enable_gui('tk', root)\n"
     ]
    }
   ],
   "source": [
    "#!ls -ltr\n",
    "%run gui_tk.py"
   ]
  }
 ],
 "metadata": {
  "kernelspec": {
   "display_name": "Python 3",
   "language": "python",
   "name": "python3"
  },
  "language_info": {
   "codemirror_mode": {
    "name": "ipython",
    "version": 3
   },
   "file_extension": ".py",
   "mimetype": "text/x-python",
   "name": "python",
   "nbconvert_exporter": "python",
   "pygments_lexer": "ipython3",
   "version": "3.6.9"
  }
 },
 "nbformat": 4,
 "nbformat_minor": 4
}
